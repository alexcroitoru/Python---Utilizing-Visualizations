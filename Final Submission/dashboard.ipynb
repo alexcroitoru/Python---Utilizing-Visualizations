{
 "cells": [
  {
   "cell_type": "markdown",
   "metadata": {},
   "source": [
    "# San Francisco Rental Prices Dashboard\n",
    "\n",
    "In this notebook, you will compile the visualizations from the previous analysis into functions that can be used for a Panel dashboard."
   ]
  },
  {
   "cell_type": "code",
   "execution_count": null,
   "metadata": {},
   "outputs": [],
   "source": [
    "# imports\n",
    "import panel as pn\n",
    "from panel.interact import interact\n",
    "from panel import widgets\n",
    "pn.extension('plotly')\n",
    "import plotly.express as px\n",
    "import pandas as pd\n",
    "import hvplot.pandas\n",
    "import matplotlib.pyplot as plt\n",
    "import os\n",
    "from pathlib import Path\n",
    "from dotenv import load_dotenv"
   ]
  },
  {
   "cell_type": "code",
   "execution_count": null,
   "metadata": {},
   "outputs": [],
   "source": [
    "# Read the Mapbox API key\n",
    "load_dotenv()\n",
    "map_box_api = os.getenv(\"MAPBOX_API_KEY\")\n",
    "px.set_mapbox_access_token(map_box_api)"
   ]
  },
  {
   "cell_type": "markdown",
   "metadata": {},
   "source": [
    "# Import Data"
   ]
  },
  {
   "cell_type": "code",
   "execution_count": null,
   "metadata": {},
   "outputs": [],
   "source": [
    "# Import the necessary CSVs to Pandas DataFrames\n",
    "file_path1 = Path(\"..\\Resources\\sfo_neighborhoods_census_data.csv\")\n",
    "file_path2 = Path(\"..\\Resources\\mean_housing_units_sfo.csv\")\n",
    "file_path3 = Path(\"../Resources/neighborhoods_coordinates.csv\")\n",
    "sfo_data = pd.read_csv(file_path1, index_col=\"year\")\n",
    "mean_housing_units_sfo = pd.read_csv(file_path2)\n",
    "df_neighborhood_locations = pd.read_csv(file_path3)"
   ]
  },
  {
   "cell_type": "markdown",
   "metadata": {},
   "source": [
    "- - -"
   ]
  },
  {
   "cell_type": "markdown",
   "metadata": {},
   "source": [
    "## Panel Visualizations\n",
    "\n",
    "In this section, you will copy the code for each plot type from your analysis notebook and place it into separate functions that Panel can use to create panes for the dashboard. \n",
    "\n",
    "These functions will convert the plot object to a Panel pane.\n",
    "\n",
    "Be sure to include any DataFrame transformation/manipulation code required along with the plotting code.\n",
    "\n",
    "Return a Panel pane object from each function that can be used to build the dashboard.\n",
    "\n",
    "Note: Remove any `.show()` lines from the code. We want to return the plots instead of showing them. The Panel dashboard will then display the plots."
   ]
  },
  {
   "cell_type": "code",
   "execution_count": null,
   "metadata": {},
   "outputs": [],
   "source": [
    "# Define Panel Visualization Functions\n",
    "def housing_units_per_year():\n",
    "    \"\"\"Housing Units Per Year.\"\"\"\n",
    "    mean_housing_units_sfo\n",
    "    return mean_housing_units_sfo.hvplot.bar(x=\"year\", y=\"housing_units\", xlabel= \"Year\", ylabel=\"housing_units\", ylim = (370000, 385000), title = \"Housing Units in San Francisco from 2010 to 2016\")\n",
    "\n",
    "def average_gross_rent():\n",
    "    \"\"\"Average Gross Rent in San Francisco Per Year.\"\"\"\n",
    "    gross_rent = mean_housing_units_sfo[\"gross_rent\"]\n",
    "    return gross_rent.hvplot.line(y=\"gross_rent\", xlabel= \"Year\", ylabel=\"gross_rent\", ylim = (1100, 4500), title = \"Average Gross Rent by Year\")   \n",
    "\n",
    "def average_sales_price():\n",
    "    \"\"\"Average Sales Price Per Year.\"\"\"\n",
    "    sale_price_sqr_foot = mean_housing_units_sfo[\"sale_price_sqr_foot\"]\n",
    "    return sale_price_sqr_foot.hvplot.line(y=\"sale_price_sqr_foot\", xlabel= \"Year\", ylabel=\"sale_price_sqr_foot\", ylim = (300, 720), title = \"Average Price per Square Foot by Year\",)  \n",
    "\n",
    "def average_price_by_neighborhood():\n",
    "    \"\"\"Average Prices by Neighborhood.\"\"\"\n",
    "    average_price_by_neighborhood = sfo_data.groupby(['year','neighborhood']).mean()\n",
    "    return average_price_by_neighborhood.hvplot.line(x=\"year\", y=\"sale_price_sqr_foot\", xlabel= \"Year\", ylabel=\"Average Price/Square Foot\", groupby=\"neighborhood\") \n",
    "\n",
    "def top_most_expensive_neighborhoods():\n",
    "    \"\"\"Top 10 Most Expensive Neighborhoods.\"\"\"\n",
    "    mean_neighborhood_sfo = sfo_data.groupby([\"neighborhood\"]).mean()\n",
    "    mean_sale_price_sfo = mean_neighborhood_sfo.sort_values(\"sale_price_sqr_foot\", ascending=False)\n",
    "    sfo = mean_sale_price_sfo.head(10)\n",
    "    \n",
    "    top_10 = sfo.hvplot.bar(y='sale_price_sqr_foot', ylim= (100, 1500), title = \"Top 10 Most Expensive Neighborhoods in SFO\").opts(xrotation=90)\n",
    "    return top_10\n",
    "\n",
    "def most_expensive_neighborhoods_rent_sales():\n",
    "    \"\"\"Comparison of Rent and Sales Prices of Most Expensive Neighborhoods.\"\"\"   \n",
    "    average_price_by_neighborhood = sfo_data.groupby(['year','neighborhood']).mean()\n",
    "    return average_price_by_neighborhood.hvplot.bar(x=\"year\", y=[\"gross_rent\",'sale_price_sqr_foot'], xlabel= \"Neighborhood\", ylabel=\"Average Gross Rent per Year\", groupby=\"neighborhood\", title=\"Top 10 Expensive Neighborhoods in SFO\").opts(xrotation=90)\n",
    "\n",
    "def parallel_coordinates():\n",
    "    \"\"\"Parallel Coordinates Plot.\"\"\"\n",
    "    mean_neighborhood_sfo = sfo_data.groupby([\"neighborhood\"]).mean()\n",
    "    mean_sale_price_sfo = mean_neighborhood_sfo.sort_values(\"sale_price_sqr_foot\", ascending=False)\n",
    "    sfo = mean_sale_price_sfo.head(10)\n",
    "    a = sfo.reset_index()\n",
    "    parallel_coordinates_top_10 = px.parallel_coordinates(a, color='sale_price_sqr_foot')\n",
    "    return parallel_coordinates_top_10\n",
    "    \n",
    "def parallel_categories():\n",
    "    \"\"\"Parallel Categories Plot.\"\"\"\n",
    "    mean_neighborhood_sfo = sfo_data.groupby([\"neighborhood\"]).mean()\n",
    "    mean_sale_price_sfo = mean_neighborhood_sfo.sort_values(\"sale_price_sqr_foot\", ascending=False)\n",
    "    sfo = mean_sale_price_sfo.head(10)\n",
    "    a = sfo.reset_index()\n",
    "    parallel_categories_top_10 = px.parallel_categories(a, color=\"sale_price_sqr_foot\", color_continuous_scale=px.colors.sequential.Inferno, title='Average House Value/Neighborhood', labels={'neighborhood': \"Neighborhood\", 'sale_price_sqr_foot':'Sales Price/Square Foot', 'housing_units':'Housing Units', 'gross_rent':'Gross Rent'})\n",
    "    return parallel_categories_top_10\n",
    "  \n",
    "def neighborhood_map():\n",
    "    \"\"\"Neighborhood Map.\"\"\"\n",
    "    mean_neighborhood_sfo = sfo_data.groupby([\"neighborhood\"]).mean()\n",
    "    mean_sale_price_sfo = mean_neighborhood_sfo.sort_values(\"sale_price_sqr_foot\", ascending=False)\n",
    "    msp = mean_sale_price_sfo.reset_index()\n",
    "    avg_value_location = pd.concat([msp, df_neighborhood_locations], axis=\"columns\", join=\"inner\")\n",
    "    px.set_mapbox_access_token(map_box_api)\n",
    "    maps = px.scatter_mapbox(\n",
    "    avg_value_location,\n",
    "    lat=\"Lat\",\n",
    "    lon=\"Lon\",\n",
    "    size=\"sale_price_sqr_foot\",\n",
    "    color=\"gross_rent\",\n",
    "    title=\"Average Sale Price per Square Foot and Gross Rent in San Francisco\"\n",
    "    )\n",
    "    return maps"
   ]
  },
  {
   "cell_type": "markdown",
   "metadata": {},
   "source": [
    "## Panel Dashboard\n",
    "\n",
    "In this section, you will combine all of the plots into a single dashboard view using Panel. Be creative with your dashboard design!"
   ]
  },
  {
   "cell_type": "code",
   "execution_count": null,
   "metadata": {},
   "outputs": [],
   "source": [
    "# Create a Title for the Dashboard\n",
    "title = '##Real Estate Analysis of San Francisco from 2010-2016'\n",
    "\n",
    "\n",
    "# Create a tab layout for the dashboard\n",
    "welcome_tab = pn.Column((title),\n",
    "                        neighborhood_map(),\n",
    "                        background='grey')\n",
    "\n",
    "neighborhood_analysis_tab = pn.Column(average_price_by_neighborhood(),\n",
    "                                      top_most_expensive_neighborhoods(),\n",
    "                                      most_expensive_neighborhoods_rent_sales())\n",
    "\n",
    "market_analysis_row = pn.Row(housing_units_per_year(),\n",
    "                             average_gross_rent(),\n",
    "                             average_sales_price())\n",
    "\n",
    "parallel_plots_tab = pn.Column(parallel_categories(),\n",
    "                               parallel_coordinates())\n",
    "                              \n",
    "# Create the dashboard\n",
    "SF_dashboard = pn.Tabs((\"Welcome\", welcome_tab), \n",
    "(\"Yearly Market Analysis\", market_analysis_row),\n",
    "(\"Neighborhood Analysis\", neighborhood_analysis_tab), \n",
    "(\"Interactive Market Analysis by Neighborhood\", parallel_plots_tab))"
   ]
  },
  {
   "cell_type": "markdown",
   "metadata": {},
   "source": [
    "## Serve the Panel Dashboard"
   ]
  },
  {
   "cell_type": "code",
   "execution_count": null,
   "metadata": {},
   "outputs": [],
   "source": [
    "# Serve the# dashboard\n",
    "SF_dashboard.servable()"
   ]
  },
  {
   "cell_type": "markdown",
   "metadata": {},
   "source": [
    "# Debugging\n",
    "\n",
    "Note: Some of the Plotly express plots may not render in the notebook through the panel functions.\n",
    "\n",
    "However, you can test each plot by uncommenting the following code"
   ]
  },
  {
   "cell_type": "code",
   "execution_count": null,
   "metadata": {},
   "outputs": [],
   "source": [
    "#housing_units_per_year()"
   ]
  },
  {
   "cell_type": "code",
   "execution_count": null,
   "metadata": {},
   "outputs": [],
   "source": [
    "#average_gross_rent()"
   ]
  },
  {
   "cell_type": "code",
   "execution_count": null,
   "metadata": {},
   "outputs": [],
   "source": [
    "#average_sales_price()"
   ]
  },
  {
   "cell_type": "code",
   "execution_count": null,
   "metadata": {},
   "outputs": [],
   "source": [
    "#average_price_by_neighborhood()"
   ]
  },
  {
   "cell_type": "code",
   "execution_count": null,
   "metadata": {},
   "outputs": [],
   "source": [
    "#top_most_expensive_neighborhoods()"
   ]
  },
  {
   "cell_type": "code",
   "execution_count": null,
   "metadata": {},
   "outputs": [],
   "source": [
    "#most_expensive_neighborhoods_rent_sales()"
   ]
  },
  {
   "cell_type": "code",
   "execution_count": null,
   "metadata": {},
   "outputs": [],
   "source": [
    "#neighborhood_map().show()"
   ]
  },
  {
   "cell_type": "code",
   "execution_count": null,
   "metadata": {},
   "outputs": [],
   "source": [
    "#parallel_categories()"
   ]
  },
  {
   "cell_type": "code",
   "execution_count": null,
   "metadata": {},
   "outputs": [],
   "source": [
    "#parallel_coordinates()"
   ]
  }
 ],
 "metadata": {
  "file_extension": ".py",
  "kernelspec": {
   "display_name": "Python [conda env:pyvizenv] *",
   "language": "python",
   "name": "conda-env-pyvizenv-py"
  },
  "language_info": {
   "codemirror_mode": {
    "name": "ipython",
    "version": 3
   },
   "file_extension": ".py",
   "mimetype": "text/x-python",
   "name": "python",
   "nbconvert_exporter": "python",
   "pygments_lexer": "ipython3",
   "version": "3.7.10"
  },
  "mimetype": "text/x-python",
  "name": "python",
  "npconvert_exporter": "python",
  "pygments_lexer": "ipython3",
  "version": 3
 },
 "nbformat": 4,
 "nbformat_minor": 4
}
